{
 "cells": [
  {
   "cell_type": "code",
   "execution_count": 1,
   "metadata": {
    "collapsed": true
   },
   "outputs": [],
   "source": [
    "from scipy.io import wavfile\n",
    "import numpy as np\n",
    "import os\n",
    "import matplotlib.pyplot as plt\n",
    "import IPython.display as ipd\n",
    "from utils import sampleSplicing as sp\n",
    "%matplotlib inline"
   ]
  },
  {
   "cell_type": "code",
   "execution_count": 2,
   "metadata": {
    "collapsed": true
   },
   "outputs": [],
   "source": [
    "#path to files\n",
    "filePath = '/Users/benthompson/Google Drive/MIDS/210/w210-Capstone-AstroDrum/Kick Drums/'"
   ]
  },
  {
   "cell_type": "code",
   "execution_count": 7,
   "metadata": {},
   "outputs": [
    {
     "name": "stderr",
     "output_type": "stream",
     "text": [
      "/Users/benthompson/anaconda/lib/python3.6/site-packages/scipy/io/wavfile.py:273: WavFileWarning: Chunk (non-data) not understood, skipping it.\n",
      "  WavFileWarning)\n"
     ]
    }
   ],
   "source": [
    "#iterate and create new sounds\n",
    "possible = os.listdir(filePath)\n",
    "#remove any that are hidden files\n",
    "wanted = [f for f in possible if f[0] != '.']\n",
    "# print(wanted)\n",
    "\n",
    "#set ms\n",
    "ms = 60\n",
    "for s in wanted:\n",
    "    \n",
    "    try:\n",
    "        #read in kick file\n",
    "        k1 = wavfile.read(filePath+s)\n",
    "\n",
    "        #split kick\n",
    "        k1_1,k1_2 = sp.splice(k1,ms,stereo=True)\n",
    "\n",
    "        #export samples\n",
    "        wavfile.write('/Users/benthompson/Google Drive/MIDS/210/w210-Capstone-AstroDrum/splitKicks/snap/snap{}'.format(s),rate=44100,data=k1_1[:,0])\n",
    "        wavfile.write('/Users/benthompson/Google Drive/MIDS/210/w210-Capstone-AstroDrum/splitKicks/boom/booms{}'.format(s),rate=44100,data=k1_2[:,0])\n",
    "    \n",
    "    except ValueError:\n",
    "        continue"
   ]
  }
 ],
 "metadata": {
  "kernelspec": {
   "display_name": "Python 3",
   "language": "python",
   "name": "python3"
  },
  "language_info": {
   "codemirror_mode": {
    "name": "ipython",
    "version": 3
   },
   "file_extension": ".py",
   "mimetype": "text/x-python",
   "name": "python",
   "nbconvert_exporter": "python",
   "pygments_lexer": "ipython3",
   "version": "3.6.6"
  }
 },
 "nbformat": 4,
 "nbformat_minor": 2
}
