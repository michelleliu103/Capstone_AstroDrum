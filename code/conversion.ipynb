{
 "cells": [
  {
   "cell_type": "code",
   "execution_count": 1,
   "metadata": {},
   "outputs": [
    {
     "name": "stderr",
     "output_type": "stream",
     "text": [
      "/Users/mgin/anaconda/lib/python2.7/site-packages/h5py/__init__.py:34: FutureWarning: Conversion of the second argument of issubdtype from `float` to `np.floating` is deprecated. In future, it will be treated as `np.float64 == np.dtype(float).type`.\n",
      "  from ._conv import register_converters as _register_converters\n"
     ]
    }
   ],
   "source": [
    "import tensorflow as tf\n"
   ]
  },
  {
   "cell_type": "code",
   "execution_count": null,
   "metadata": {
    "collapsed": true
   },
   "outputs": [],
   "source": [
    "def wav_to_tf(input_filename):\n",
    "    input_filename = tf.placeholder(tf.string, shape=[])\n",
    "    output_filename = tf.placeholder(tf.string, shape=[])\n",
    "\n",
    "    input_signal = tf.contrib.ffmpeg.decode_audio(\n",
    "        tf.read_file(input_filename), file_format=\"wav\",\n",
    "        samples_per_second=44100, channel_count=2)\n",
    "\n",
    "    \n",
    "\n",
    "def tf_to_wav(output_filename):\n",
    "    output_signal = ...  # A 2-D tensor, [samples x channels]\n",
    "    encoded_audio_data = tf.contrib.ffmpeg.encode_audio(\n",
    "        output_signal, file_format=\"wav\", samples_per_second=44100)\n",
    "\n",
    "    write_file_op = tf.write_file(output_filename, encoded_audio_data)\n",
    "\n",
    "with tf.Session() as sess:\n",
    "  sess.run(write_file_op, {input_filename: \"input.wav\",\n",
    "                           output_filename: \"output.wav\"})"
   ]
  },
  {
   "cell_type": "code",
   "execution_count": 10,
   "metadata": {},
   "outputs": [
    {
     "name": "stdout",
     "output_type": "stream",
     "text": [
      "\n",
      "Parsed ../data/Kick_Drums/080-BD.wav\n",
      "-----------------------------------------------\n",
      "Channels: 1\n",
      "Sample Rate: 11025\n",
      "First Sample: 258\n",
      "Second Sample: 796\n",
      "Length in Seconds: 0\n"
     ]
    }
   ],
   "source": [
    "import wave\n",
    "def _trivial__enter__(self):\n",
    "    return self\n",
    "def _self_close__exit__(self, exc_type, exc_value, traceback):\n",
    "    self.close()\n",
    "\n",
    "wave.Wave_read.__exit__ = wave.Wave_write.__exit__ = _self_close__exit__\n",
    "wave.Wave_read.__enter__ = wave.Wave_write.__enter__ = _trivial__enter__\n",
    "\n",
    "import struct\n",
    "from struct import unpack\n",
    "\n",
    "def parse_wave_python(filename):\n",
    "    with wave.open(filename, 'rb') as wave_file:\n",
    "        sample_rate = wave_file.getframerate()\n",
    "        length_in_seconds = wave_file.getnframes() / sample_rate\n",
    "        \n",
    "        first_sample = struct.unpack(\n",
    "            '<h', wave_file.readframes(1))[0]\n",
    "        second_sample = struct.unpack(\n",
    "            '<h', wave_file.readframes(1))[0]\n",
    "    print('''\n",
    "Parsed {filename}\n",
    "-----------------------------------------------\n",
    "Channels: {num_channels}\n",
    "Sample Rate: {sample_rate}\n",
    "First Sample: {first_sample}\n",
    "Second Sample: {second_sample}\n",
    "Length in Seconds: {length_in_seconds}'''.format(\n",
    "            filename=filename,\n",
    "            num_channels=wave_file.getnchannels(),\n",
    "            sample_rate=wave_file.getframerate(),\n",
    "            first_sample=first_sample,\n",
    "            second_sample=second_sample,\n",
    "            length_in_seconds=length_in_seconds))\n",
    "        \n",
    "parse_wave_python('../data/Kick_Drums/080-BD.wav')"
   ]
  },
  {
   "cell_type": "code",
   "execution_count": 13,
   "metadata": {},
   "outputs": [
    {
     "name": "stdout",
     "output_type": "stream",
     "text": [
      "\n",
      "Parsed ../data/Kick_Drums/VEH3 Kicks 220.wav\n",
      "-----------------------------------------------\n",
      "Channels: 1\n",
      "Sample Rate: 44100\n",
      "First Sample: 9962.0\n",
      "Second Sample: 14665.0\n",
      "Length in Seconds: 0\n"
     ]
    }
   ],
   "source": [
    "import tensorflow as tf\n",
    "# Requires latest tf-1.4 on Windows\n",
    "from tensorflow.contrib.framework.python.ops import audio_ops as contrib_audio\n",
    "def parse_wave_tf(filename):\n",
    "    audio_binary = tf.read_file(filename)\n",
    "    desired_channels = 1\n",
    "    wav_decoder = contrib_audio.decode_wav(\n",
    "        audio_binary,\n",
    "        desired_channels=desired_channels)\n",
    "    with tf.Session() as sess:\n",
    "        sample_rate, audio = sess.run([\n",
    "            wav_decoder.sample_rate,\n",
    "            wav_decoder.audio])\n",
    "        first_sample = audio[0][0] * (1 << 15)\n",
    "        second_sample = audio[1][0] * (1 << 15)\n",
    "        print('''\n",
    "Parsed {filename}\n",
    "-----------------------------------------------\n",
    "Channels: {desired_channels}\n",
    "Sample Rate: {sample_rate}\n",
    "First Sample: {first_sample}\n",
    "Second Sample: {second_sample}\n",
    "Length in Seconds: {length_in_seconds}'''.format(\n",
    "            filename=filename,\n",
    "            desired_channels=desired_channels,\n",
    "            sample_rate=sample_rate,\n",
    "            first_sample=first_sample,\n",
    "            second_sample=second_sample,\n",
    "            length_in_seconds=len(audio) / sample_rate))\n",
    "        \n",
    "        # save as tfrecord\n",
    "        \n",
    "        \n",
    "parse_wave_tf('../data/Kick_Drums/VEH3 Kicks 220.wav')"
   ]
  },
  {
   "cell_type": "code",
   "execution_count": 25,
   "metadata": {},
   "outputs": [],
   "source": [
    "# apply noise\n",
    "\n",
    "import numpy as np\n",
    "from scikits.audiolab import wavread, wavwrite\n",
    "\n",
    "data1, fs1, enc1 = wavread(\"../data/Kick_Drums/VEH3 Kicks 220.wav\")\n",
    "data2, fs2, enc2 = wavread(\"../data/Kick_Drums/VEH3 Kicks 221.wav\")\n",
    "\n",
    "assert fs1 == fs2\n",
    "assert enc1 == enc2\n",
    "\n",
    "# take min size\n",
    "#min_size = min(len(data1), len(data2))\n",
    "#result = 2 * data1[:min_size] + 2 * data2[:min_size]\n",
    "\n",
    "#result = 0.5 * data1 + 0.5 * data2\n",
    "\n",
    "# wrap to longest\n",
    "short, long = (data1, data2) if len(data1) < len(data2) else (data2, data1)\n",
    "n = len(long) / len(short)\n",
    "new_array = np.tile(short, n)\n",
    "\n",
    "result = 5 * long[:n] + 5 * new_array\n",
    "\n",
    "wavwrite(result, 'result.wav')"
   ]
  }
 ],
 "metadata": {
  "kernelspec": {
   "display_name": "Python 2",
   "language": "python",
   "name": "python2"
  },
  "language_info": {
   "codemirror_mode": {
    "name": "ipython",
    "version": 2
   },
   "file_extension": ".py",
   "mimetype": "text/x-python",
   "name": "python",
   "nbconvert_exporter": "python",
   "pygments_lexer": "ipython2",
   "version": "2.7.13"
  }
 },
 "nbformat": 4,
 "nbformat_minor": 2
}
