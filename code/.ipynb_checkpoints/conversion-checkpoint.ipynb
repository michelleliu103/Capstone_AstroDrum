{
 "cells": [
  {
   "cell_type": "code",
   "execution_count": 1,
   "metadata": {},
   "outputs": [
    {
     "name": "stderr",
     "output_type": "stream",
     "text": [
      "/Users/mgin/anaconda/lib/python2.7/site-packages/h5py/__init__.py:34: FutureWarning: Conversion of the second argument of issubdtype from `float` to `np.floating` is deprecated. In future, it will be treated as `np.float64 == np.dtype(float).type`.\n",
      "  from ._conv import register_converters as _register_converters\n"
     ]
    }
   ],
   "source": [
    "import tensorflow as tf\n"
   ]
  },
  {
   "cell_type": "code",
   "execution_count": null,
   "metadata": {
    "collapsed": true
   },
   "outputs": [],
   "source": [
    "def wav_to_tf(input_filename):\n",
    "    input_filename = tf.placeholder(tf.string, shape=[])\n",
    "    output_filename = tf.placeholder(tf.string, shape=[])\n",
    "\n",
    "    input_signal = tf.contrib.ffmpeg.decode_audio(\n",
    "        tf.read_file(input_filename), file_format=\"wav\",\n",
    "        samples_per_second=44100, channel_count=2)\n",
    "\n",
    "    \n",
    "\n",
    "def tf_to_wav(output_filename):\n",
    "    output_signal = ...  # A 2-D tensor, [samples x channels]\n",
    "    encoded_audio_data = tf.contrib.ffmpeg.encode_audio(\n",
    "        output_signal, file_format=\"wav\", samples_per_second=44100)\n",
    "\n",
    "    write_file_op = tf.write_file(output_filename, encoded_audio_data)\n",
    "\n",
    "with tf.Session() as sess:\n",
    "  sess.run(write_file_op, {input_filename: \"input.wav\",\n",
    "                           output_filename: \"output.wav\"})"
   ]
  }
 ],
 "metadata": {
  "kernelspec": {
   "display_name": "Python 2",
   "language": "python",
   "name": "python2"
  },
  "language_info": {
   "codemirror_mode": {
    "name": "ipython",
    "version": 2
   },
   "file_extension": ".py",
   "mimetype": "text/x-python",
   "name": "python",
   "nbconvert_exporter": "python",
   "pygments_lexer": "ipython2",
   "version": "2.7.13"
  }
 },
 "nbformat": 4,
 "nbformat_minor": 2
}
